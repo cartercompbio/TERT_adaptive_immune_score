{
 "cells": [
  {
   "cell_type": "code",
   "execution_count": 1,
   "metadata": {},
   "outputs": [],
   "source": [
    "import pandas as pd\n",
    "import numpy as np\n",
    "import scipy.stats as sp\n",
    "import seaborn as sns\n",
    "import matplotlib.pyplot as plt\n",
    "import matplotlib as mtp\n",
    "mtp.rcParams[\"pdf.fonttype\"] = 42\n",
    "\n",
    "import warnings\n",
    "warnings.filterwarnings('ignore')"
   ]
  },
  {
   "cell_type": "code",
   "execution_count": 2,
   "metadata": {},
   "outputs": [],
   "source": [
    "tcgaDf = pd.read_csv(\"C:/Data/Lab/Carter_Lab/aneuploidy_data/TCGA_TP_allgene.csv\")\n",
    "hnsc = tcgaDf[tcgaDf.disease == \"HNSC\"]\n",
    "#CD3_marker = [\"CD3D\",\"CD3E\",\"CD3G\"]\n",
    "Bcell_marker = [\"CD19\",\"MS4A1\"]\n",
    "\n",
    "#hnsc[\"CD3\"] = sp.stats.gmean(np.log2(1+hnsc[CD3_marker]),axis=1)\n",
    "hnsc[\"Bcell\"]  = sp.stats.gmean(np.log2(1+hnsc[Bcell_marker]),axis=1)"
   ]
  },
  {
   "cell_type": "code",
   "execution_count": 3,
   "metadata": {},
   "outputs": [],
   "source": [
    "def PFSsurvival(Df,gene,diseaseName,time = 3000, save = False,fdir = None):\n",
    "    \"\"\"Progression free survival analysis\n",
    "    @Df: the data frame of input, should contain gene cateogorical variable\n",
    "    @gene: categorical varialbe of \"HIGH\" and \"LOW\" as seperated groups for analysis\n",
    "    @time: the limitation of time, default is to 3000\n",
    "    @diseaseName: the name of the disease, usually is a tumor type\n",
    "    \"\"\"\n",
    "    f_dir = \"C:/Data/Lab/Zanetti_Lab/HNSC/\"\n",
    "    \n",
    "    import matplotlib as mtp\n",
    "    import pandas as pd\n",
    "    import numpy as np\n",
    "    import matplotlib.pyplot as plt\n",
    "    \n",
    "    from lifelines import KaplanMeierFitter\n",
    "    kmf = KaplanMeierFitter()\n",
    "    from lifelines.statistics import logrank_test\n",
    "    mtp.rcParams['pdf.fonttype'] = 42\n",
    "    \n",
    "    pfs=pd.read_csv(f_dir + \"PFSfile.csv\")\n",
    "    Df=pd.merge(Df,pfs[['patient_id','PFS','PFS.time']],on='patient_id')\n",
    "    Df.dropna(subset=['PFS.time','PFS'],inplace=True)\n",
    "    Df = Df[Df[\"PFS.time\"] < time]\n",
    "    Df.drop_duplicates(inplace=True)\n",
    "    \n",
    "    groups = Df[gene]\n",
    "    high = (groups == 'HIGH')\n",
    "    low = (groups == 'LOW')\n",
    "\n",
    "    T = Df['PFS.time'][low]\n",
    "    T = T.astype(np.int)\n",
    "    C = Df['PFS'][low]*1\n",
    "    C = C.astype(np.int)\n",
    "\n",
    "    T2 = Df['PFS.time'][high]\n",
    "    T2 = T2.astype(np.int)\n",
    "    C2 = Df['PFS'][high]*1\n",
    "    C2 = C2.astype(np.int)\n",
    "\n",
    "    fig,ax = plt.subplots(figsize = (6,6),sharex=True,sharey=True)\n",
    "    result_H = kmf.fit(T,C,label= str(gene)+ \" low = \"+ str(len(Df[Df[gene] == 'LOW'])))\n",
    "    kmf.plot(ci_show=False,ax =ax )\n",
    "    ax.scatter(x = 'timeline', y = str(gene)+\" low = \"+ str(len(Df[Df[gene] == 'LOW'])),\n",
    "        data = result_H.survival_function_.reset_index(),marker = \"|\", c = 'blue',\n",
    "              s = 500)\n",
    "\n",
    "    result_L = kmf.fit(T2,C2,label = str(gene)+' high = '+ str(len(Df[Df[gene] == 'HIGH'])))\n",
    "    kmf.plot(ci_show=False,ax =ax )\n",
    "\n",
    "    ax.scatter(x = 'timeline', y = str(gene)+' high = '+ str(len(Df[Df[gene] == 'HIGH'])),\n",
    "        data = result_L.survival_function_.reset_index(),marker = \"|\", c = 'orange',\n",
    "              s = 500)\n",
    "    plt.title(diseaseName+' survival plot signature')\n",
    "    plt.ylim([-.1,1.1])\n",
    "    if save:\n",
    "        #f_dir = \"C:/Data/Lab/Zanetti_Lab/Figures/\"\n",
    "        plt.savefig(fdir,bbox_inches = \"tight\")\n",
    "    result = logrank_test(T.astype(np.int), T2.astype(np.int), C.astype(np.int), C2.astype(np.int), alpha=0.95)\n",
    "    print(result.p_value)"
   ]
  },
  {
   "cell_type": "markdown",
   "metadata": {},
   "source": [
    "# Supplementary Figure 3"
   ]
  },
  {
   "cell_type": "code",
   "execution_count": 4,
   "metadata": {
    "scrolled": true
   },
   "outputs": [
    {
     "name": "stdout",
     "output_type": "stream",
     "text": [
      "0.9541182904096374\n"
     ]
    },
    {
     "data": {
      "image/png": "[encoded data removed]",
      "text/plain": [
       "<Figure size 432x432 with 1 Axes>"
      ]
     },
     "metadata": {
      "needs_background": "light"
     },
     "output_type": "display_data"
    }
   ],
   "source": [
    "def plot_tert_low(df = hnsc):\n",
    "    \n",
    "    f_dir = \"C:/Data/Lab/Zanetti_Lab/HNSC/\"\n",
    "    \n",
    "    df = df[Bcell_marker + [\"TERT\",\"patient_id\"]]\n",
    "    df = df.groupby(\"patient_id\")[[\"TERT\"] + Bcell_marker].mean()\n",
    "    \n",
    "    b_exp = sp.stats.gmean(np.log2(1+df[Bcell_marker]),axis=1)\n",
    "    b_cat = pd.cut(x = b_exp,bins = [-np.inf,np.quantile(b_exp,q=.3),np.quantile(b_exp,q=.7),np.inf],labels=[\"LOW\",\"MID\",\"HIGH\"])\n",
    "\n",
    "    tert_exp = np.log2(1+df[\"TERT\"]).values\n",
    "    tert_cat = pd.cut(x = tert_exp, bins = [-np.inf,np.quantile(tert_exp,q=.3),np.quantile(tert_exp,q=.7),np.inf],labels=[\"LOW\",\"MID\",\"HIGH\"])\n",
    "\n",
    "    low_ids = df[(b_cat == \"LOW\") & (tert_cat == \"LOW\")].index.tolist()\n",
    "    high_ids = df[(b_cat == \"HIGH\") & (tert_cat == \"LOW\")].index.tolist()\n",
    "    \n",
    "    df = df.loc[high_ids + low_ids]\n",
    "    df[\"group\"] = [ \"HIGH\" if x in set(high_ids) else \"LOW\" for x in df.index.tolist()]\n",
    "    \n",
    "    stage_dict = {\"Stage I\":1,\"Stage II\":2, \"Stage III\":3, \"Stage IV\":4}\n",
    "    stage = pd.read_csv(f_dir + \"stageinfo.csv\",header = None)\n",
    "    stage.columns = [\"patient_id\",\"stage\"]\n",
    "    df = pd.merge(df, stage, on = \"patient_id\").drop_duplicates()\n",
    "    \n",
    "    PFSsurvival(df,\"group\",\"HNSC\",time=10000,save=True,fdir = \"C:/Data/Lab/Zanetti_Lab/HNSC/PNASNEXUS/bcell_tertlow.pdf\")\n",
    "    \n",
    "plot_tert_low(df = hnsc)"
   ]
  },
  {
   "cell_type": "markdown",
   "metadata": {},
   "source": [
    "# Supplementary Figure 4"
   ]
  },
  {
   "cell_type": "code",
   "execution_count": 5,
   "metadata": {
    "scrolled": true
   },
   "outputs": [
    {
     "name": "stdout",
     "output_type": "stream",
     "text": [
      "0.024856637539517286\n",
      "0.06453908974885895\n"
     ]
    },
    {
     "data": {
      "image/png": "[encoded data removed]",
      "text/plain": [
       "<Figure size 432x432 with 1 Axes>"
      ]
     },
     "metadata": {
      "needs_background": "light"
     },
     "output_type": "display_data"
    },
    {
     "data": {
      "image/png": "[encoded data removed]",
      "text/plain": [
       "<Figure size 432x432 with 1 Axes>"
      ]
     },
     "metadata": {
      "needs_background": "light"
     },
     "output_type": "display_data"
    }
   ],
   "source": [
    "def plot_survival_by_stage_combined(df = hnsc):\n",
    "    \n",
    "    f_dir = \"C:/Data/Lab/Zanetti_Lab/HNSC/\"\n",
    "    \n",
    "    df = df[Bcell_marker + [\"TERT\",\"patient_id\"]]\n",
    "    df = df.groupby(\"patient_id\")[[\"TERT\"] + Bcell_marker].mean()\n",
    "    \n",
    "    b_exp = sp.stats.gmean(np.log2(1+df[Bcell_marker]),axis=1)\n",
    "    b_cat = pd.cut(x = b_exp,bins = [-np.inf,np.quantile(b_exp,q=.3),np.quantile(b_exp,q=.7),np.inf],labels=[\"LOW\",\"MID\",\"HIGH\"])\n",
    "\n",
    "    tert_exp = np.log2(1+df[\"TERT\"]).values\n",
    "    tert_cat = pd.cut(x = tert_exp, bins = [-np.inf,np.quantile(tert_exp,q=.3),np.quantile(tert_exp,q=.7),np.inf],labels=[\"LOW\",\"MID\",\"HIGH\"])\n",
    "\n",
    "    low_ids = df[(b_cat == \"HIGH\") & (tert_cat == \"LOW\")].index.tolist()\n",
    "    high_ids = df[(b_cat == \"HIGH\") & (tert_cat == \"HIGH\")].index.tolist()\n",
    "    \n",
    "    df = df.loc[high_ids + low_ids]\n",
    "    df[\"group\"] = [ \"HIGH\" if x in set(high_ids) else \"LOW\" for x in df.index.tolist()]\n",
    "    \n",
    "    stage_dict = {\"Stage I\":1,\"Stage II\":2, \"Stage III\":3, \"Stage IV\":4}\n",
    "    stage = pd.read_csv(f_dir + \"stageinfo.csv\",header = None)\n",
    "    stage.columns = [\"patient_id\",\"stage\"]\n",
    "    df = pd.merge(df, stage, on = \"patient_id\").drop_duplicates()\n",
    "    \n",
    "    combine_stage_dict = {\"Stage I\":\"L\",\"Stage II\":\"L\", \"Stage III\":\"H\", \"Stage IV\":\"H\"}\n",
    "    df[\"combined_stage\"] = [ combine_stage_dict[x] if x in combine_stage_dict else np.nan for x in df[\"stage\"]]\n",
    "    for stage in [\"L\",\"H\"]:\n",
    "        tmp = df[df[\"combined_stage\"] == stage]\n",
    "        PFSsurvival(tmp,\"group\",\"HNSC\",time=10000,save=True,fdir = \"C:/Data/Lab/Zanetti_Lab/HNSC/PNASNEXUS/bhiterthi_stage_\"+stage +\".pdf\")\n",
    "    \n",
    "plot_survival_by_stage_combined(df = hnsc)"
   ]
  },
  {
   "cell_type": "markdown",
   "metadata": {},
   "source": [
    "# Supplementary Figure 8"
   ]
  },
  {
   "cell_type": "code",
   "execution_count": 6,
   "metadata": {},
   "outputs": [],
   "source": [
    "single_cell = pd.read_csv(\"C:/Data/Lab/Zanetti_Lab/single_cell_hnsc/GSE103322_HNSCC_all_data.txt\",sep = \"\\t\")\n",
    "single_cell_assignment = pd.read_excel(\"C:/Data/Lab/Zanetti_Lab/single_cell_hnsc/HNSCC_tumor_assignment.xlsx\",header = None)\n",
    "single_cell_assignment[0] = [ x[1:-1] for x in single_cell_assignment[0]]\n",
    "id_maps = dict(zip(single_cell_assignment[0].tolist(),single_cell_assignment[1].tolist()))\n",
    "single_cell_genes = single_cell[\"Unnamed: 0\"].tolist()\n",
    "single_cell_genes = single_cell_genes[5:]\n",
    "single_cell_genes = [ x[1:-1] for x in single_cell_genes]\n",
    "cell_type_mapping = dict(zip(single_cell.columns.tolist()[1:],single_cell.iloc[4].tolist()[1:]))"
   ]
  },
  {
   "cell_type": "code",
   "execution_count": 7,
   "metadata": {},
   "outputs": [],
   "source": [
    "tmp = single_cell.set_index(\"Unnamed: 0\").loc[\"'TERT'\"].sort_values(ascending = False)[:30]\n",
    "tmp = pd.DataFrame(tmp)\n",
    "tmp.columns = [\"TERT\"]\n",
    "tmp[\"celltype\"] = [ cell_type_mapping[x] if x in cell_type_mapping else \"cancer cell\" for x in tmp.index.tolist()]\n",
    "tmp[\"celltype\"] = tmp[\"celltype\"].replace(0.0,\"cancer\")\n",
    "tmp[\"ids\"] = [id_maps[x] for x in tmp.index.tolist()]"
   ]
  },
  {
   "cell_type": "code",
   "execution_count": 8,
   "metadata": {},
   "outputs": [
    {
     "data": {
      "text/plain": [
       "<AxesSubplot:xlabel='celltype', ylabel='TERT'>"
      ]
     },
     "execution_count": 8,
     "metadata": {},
     "output_type": "execute_result"
    },
    {
     "data": {
      "image/png": "[encoded data removed]",
      "text/plain": [
       "<Figure size 432x288 with 1 Axes>"
      ]
     },
     "metadata": {
      "needs_background": "light"
     },
     "output_type": "display_data"
    }
   ],
   "source": [
    "sns.swarmplot(x = \"celltype\",y = \"TERT\",data = tmp,color = \"k\")\n",
    "sns.boxplot(x = \"celltype\",y = \"TERT\",data = tmp)"
   ]
  }
 ],
 "metadata": {
  "kernelspec": {
   "display_name": "Python 3",
   "language": "python",
   "name": "python3"
  },
  "language_info": {
   "codemirror_mode": {
    "name": "ipython",
    "version": 3
   },
   "file_extension": ".py",
   "mimetype": "text/x-python",
   "name": "python",
   "nbconvert_exporter": "python",
   "pygments_lexer": "ipython3",
   "version": "3.8.5"
  }
 },
 "nbformat": 4,
 "nbformat_minor": 4
}
